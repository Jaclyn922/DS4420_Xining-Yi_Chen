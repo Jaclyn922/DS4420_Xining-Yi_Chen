{
 "cells": [
  {
   "cell_type": "code",
   "execution_count": 1,
   "metadata": {},
   "outputs": [
    {
     "name": "stdout",
     "output_type": "stream",
     "text": [
      "1. Bath & Body\n",
      "2. Fragrance\n",
      "3. Hair\n",
      "4. Makeup\n",
      "5. Men\n",
      "6. Mini Size\n",
      "7. Skincare\n",
      "8. Tools & Brushes\n"
     ]
    }
   ],
   "source": [
    "import pandas as pd\n",
    "import numpy as np\n",
    "from sklearn.preprocessing import StandardScaler\n",
    "import plotly.express as px\n",
    "\n",
    "# Loading our data from sephora \n",
    "df = pd.read_csv(\"product_info.csv\")\n",
    "\n",
    "# these are chosen for similarity calculation\n",
    "df = df[['product_name', 'primary_category', 'secondary_category',\n",
    "         'price_usd', 'rating', 'loves_count', 'reviews', 'online_only']]\n",
    "# dropping Na values\n",
    "df = df.dropna()\n",
    "\n",
    "# we are now Keeping only categories with at least 5 products for COntent based calculation\n",
    "counts = df.groupby(['primary_category', 'secondary_category']).size().reset_index(name='item_count')\n",
    "valid = counts[counts['item_count'] >= 5]\n",
    "df = df.merge(valid, on=['primary_category', 'secondary_category'])\n",
    "\n",
    "# Printing the catagory and input where user can select\n",
    "primary = sorted(df['primary_category'].unique())\n",
    "for i, cat in enumerate(primary):\n",
    "    print(f\"{i+1}. {cat}\")\n",
    "p = int(input(\"Select primary category: \")) - 1\n",
    "chosen_primary = primary[p]\n"
   ]
  },
  {
   "cell_type": "code",
   "execution_count": 2,
   "metadata": {},
   "outputs": [
    {
     "name": "stdout",
     "output_type": "stream",
     "text": [
      "1. Bath & Shower\n",
      "2. Body Care\n",
      "3. Body Moisturizers\n",
      "4. Mini Size\n",
      "5. Self Tanners\n",
      "6. Value & Gift Sets\n"
     ]
    }
   ],
   "source": [
    "# we are doing the same for secondary catagory\n",
    "secondary = sorted(df[df['primary_category'] == chosen_primary]['secondary_category'].unique())\n",
    "for i, cat in enumerate(secondary):\n",
    "    print(f\"{i+1}. {cat}\")\n",
    "s = int(input(\"Select secondary category: \")) - 1\n",
    "chosen_secondary = secondary[s]\n"
   ]
  },
  {
   "cell_type": "code",
   "execution_count": 3,
   "metadata": {},
   "outputs": [
    {
     "name": "stdout",
     "output_type": "stream",
     "text": [
      "1. Armani Code After Shave Lotion\n",
      "2. Squalane + Enzyme Sugar Body Scrub\n",
      "3. Wake the F*ck Up Everyday Body Wash\n",
      "4. Calm the F*ck Down Everyday Body Wash\n",
      "5. Leila Lou Everyday Body Wash\n",
      "6. Rosie Everyday Body Wash\n",
      "7. James Everyday Body Wash\n",
      "8. COCO MADEMOISELLE Foaming Shower Gel\n",
      "9. Sparkle Skin Body Exfoliator\n",
      "10. J'adore Soap\n",
      "11. Sauvage Shower Wash\n",
      "12. Sauvage After-Shave Lotion\n",
      "13. Sauvage Shaving Gel\n",
      "14. Cashmere Mist Deodorant\n",
      "15. Alpha Beta Exfoliating Body Treatment Peel\n",
      "16. Kamili Cream Body Cleanser\n",
      "17. Sugared Koffie Almond Milk Body Scrub\n",
      "18. Scrubbi Bamboes  Body Cleanser\n",
      "19. Buff Ryder Exfoliating Body Scrub With Superfine Sand + Fruit Enzymes\n",
      "20. KP Bump Eraser Body Scrub with 10% AHA\n"
     ]
    }
   ],
   "source": [
    "# Filtering the data\n",
    "sub = df[(df['primary_category'] == chosen_primary) & (df['secondary_category'] == chosen_secondary)]\n",
    "\n",
    "# Lets choose a product given 20 examples to choose for \n",
    "products = sub['product_name'].drop_duplicates().tolist()\n",
    "for i, name in enumerate(products[:20]):\n",
    "    print(f\"{i+1}. {name}\")\n",
    "prod = int(input(\"Choose a product: \")) - 1\n",
    "chosen_product = products[prod]\n",
    "\n",
    "\n"
   ]
  },
  {
   "cell_type": "code",
   "execution_count": 4,
   "metadata": {},
   "outputs": [],
   "source": [
    "\n",
    "# this part is the content collaborative filtering \n",
    "# Build feature matrix, the attribute we are comparing for contedn based\n",
    "features = sub[['product_name', 'price_usd', 'rating', 'loves_count', 'reviews', 'online_only']]\n",
    "# keep first row per product\n",
    "# dropping duplicartes of product name\n",
    "features = features.drop_duplicates(subset='product_name')  \n",
    "features.set_index('product_name', inplace=True)\n",
    "\n",
    "# Standardize the features\n",
    "scaled = StandardScaler().fit_transform(features)\n",
    "scaled_df = pd.DataFrame(scaled, index=features.index, columns=features.columns)\n",
    "\n",
    "# Cosine similarity for content base CF\n",
    "def cos_sim(a, b):\n",
    "    return np.dot(a, b) / (np.linalg.norm(a) * np.linalg.norm(b))\n",
    "\n",
    "# Content based comparison within the products, and calculating the cosine similarity\n",
    "vec = scaled_df.loc[chosen_product].values\n",
    "content_sim = {}\n",
    "for name in scaled_df.index:\n",
    "    if name != chosen_product:\n",
    "        content_sim[name] = cos_sim(vec, scaled_df.loc[name].values)"
   ]
  },
  {
   "cell_type": "code",
   "execution_count": 5,
   "metadata": {},
   "outputs": [],
   "source": [
    "# simulate 50 users for user-rating\n",
    "users = 50\n",
    "# The list of all unique products in this subcategory\n",
    "items = sub['product_name'].unique()\n",
    "#total number of products\n",
    "n_items = len(items)\n",
    "# the index in the matrix\n",
    "item_index = {p: i for i, p in enumerate(items)}\n",
    "# storing the user rating\n",
    "matrix = np.zeros((users, n_items))\n",
    "\n",
    "# Reproductivity purpose\n",
    "rng = np.random.default_rng(42)\n",
    "\n",
    "popularity = sub.groupby('product_name')['loves_count'].mean().reindex(items)\n",
    "popularity /= popularity.max()\n",
    "\n",
    "for u in range(users):\n",
    "    # All users rate all products\n",
    "    # 1 value per item\n",
    "    loves = popularity.values  \n",
    "    # popularity-based base rating\n",
    "    base_ratings = 2.5 + 2.5 * loves  \n",
    "    # Adding some random variation noise, where mean is 0 and standar deviation is 0.8\n",
    "    noise = rng.normal(0, 0.8, size=n_items)  \n",
    "    # where the rating are between 1-5 stars\n",
    "    ratings = np.clip(base_ratings + noise, 1, 5)\n",
    "    matrix[u, :] = ratings\n",
    "\n",
    "\n",
    "#  A Fucntion for Item-to-item cosine similarity in matrix calculation\n",
    "def cosine_all(mat):\n",
    "    # compute the length (norm) of each item vector (column)\n",
    "    norm = np.linalg.norm(mat, axis=0)\n",
    "    \n",
    "    # compute dot products between all item pairs\n",
    "    dot_products = np.dot(mat.T, mat)\n",
    "    \n",
    "    # compute outer product of norms to divide by\n",
    "    norm_products = np.outer(norm, norm)\n",
    "    \n",
    "    # cosine similarity where the  it is equal to dot product / product of norms\n",
    "    sim = dot_products / norm_products\n",
    "    \n",
    "    return sim\n",
    "\n",
    "# we need to scale our data!\n",
    "# Transpose and scale item vectors\n",
    "matrix_T = matrix.T\n",
    "scaler = StandardScaler()\n",
    "matrix_scaled_T = scaler.fit_transform(matrix_T)\n",
    "matrix_scaled = matrix_scaled_T.T\n",
    "\n",
    "\n",
    "# calling the function\n",
    "cf_sim = cosine_all(matrix_scaled)\n",
    "cf_scores = cf_sim[item_index[chosen_product]]\n",
    "# sort and get the top 5\n",
    "cf_top_idx = np.argsort(cf_scores)[::-1][1:6]\n",
    "cf_recs = pd.Series(cf_scores[cf_top_idx], index=[items[i] for i in cf_top_idx])\n",
    "\n",
    "# Combining both\n",
    "# w1 is the content CF weight\n",
    "w1 = 0.7 \n",
    "# w2 is the Item item cf weight\n",
    "w2 = 0.3\n",
    "\n",
    "# Adding weight for the final recom\n",
    "combined = {}\n",
    "for name in content_sim:\n",
    "    if name in cf_recs:\n",
    "        combined[name] = w1 * content_sim[name] + w2 * cf_recs[name]\n",
    "\n",
    "top = pd.Series(combined).sort_values(ascending=False).head(5)\n",
    "\n"
   ]
  },
  {
   "cell_type": "code",
   "execution_count": 6,
   "metadata": {},
   "outputs": [
    {
     "name": "stdout",
     "output_type": "stream",
     "text": [
      "\n",
      " The Top 5 Combined CF Recommendations for: Armani Code After Shave Lotion are:\n"
     ]
    },
    {
     "data": {
      "text/html": [
       "<div>\n",
       "<style scoped>\n",
       "    .dataframe tbody tr th:only-of-type {\n",
       "        vertical-align: middle;\n",
       "    }\n",
       "\n",
       "    .dataframe tbody tr th {\n",
       "        vertical-align: top;\n",
       "    }\n",
       "\n",
       "    .dataframe thead th {\n",
       "        text-align: right;\n",
       "    }\n",
       "</style>\n",
       "<table border=\"1\" class=\"dataframe\">\n",
       "  <thead>\n",
       "    <tr style=\"text-align: right;\">\n",
       "      <th></th>\n",
       "      <th>product_name</th>\n",
       "      <th>similarity_score</th>\n",
       "      <th>price_usd</th>\n",
       "      <th>rating</th>\n",
       "      <th>loves_count</th>\n",
       "    </tr>\n",
       "  </thead>\n",
       "  <tbody>\n",
       "    <tr>\n",
       "      <th>0</th>\n",
       "      <td>Sauvage Shower Wash</td>\n",
       "      <td>0.756542</td>\n",
       "      <td>50.0</td>\n",
       "      <td>4.5000</td>\n",
       "      <td>4281</td>\n",
       "    </tr>\n",
       "    <tr>\n",
       "      <th>1</th>\n",
       "      <td>Hinoki Gentle Exfoliating Body Wash</td>\n",
       "      <td>0.484711</td>\n",
       "      <td>34.0</td>\n",
       "      <td>4.8059</td>\n",
       "      <td>10754</td>\n",
       "    </tr>\n",
       "    <tr>\n",
       "      <th>2</th>\n",
       "      <td>Charcoal Body Bar Massaging Soap</td>\n",
       "      <td>0.230542</td>\n",
       "      <td>16.0</td>\n",
       "      <td>4.7200</td>\n",
       "      <td>3352</td>\n",
       "    </tr>\n",
       "    <tr>\n",
       "      <th>3</th>\n",
       "      <td>Cashmere Mist Deodorant</td>\n",
       "      <td>-0.085193</td>\n",
       "      <td>32.0</td>\n",
       "      <td>4.4439</td>\n",
       "      <td>45040</td>\n",
       "    </tr>\n",
       "    <tr>\n",
       "      <th>4</th>\n",
       "      <td>Wake the F*ck Up Everyday Body Wash</td>\n",
       "      <td>-0.145355</td>\n",
       "      <td>25.0</td>\n",
       "      <td>4.1250</td>\n",
       "      <td>4567</td>\n",
       "    </tr>\n",
       "  </tbody>\n",
       "</table>\n",
       "</div>"
      ],
      "text/plain": [
       "                          product_name  similarity_score  price_usd  rating  \\\n",
       "0                  Sauvage Shower Wash          0.756542       50.0  4.5000   \n",
       "1  Hinoki Gentle Exfoliating Body Wash          0.484711       34.0  4.8059   \n",
       "2     Charcoal Body Bar Massaging Soap          0.230542       16.0  4.7200   \n",
       "3              Cashmere Mist Deodorant         -0.085193       32.0  4.4439   \n",
       "4  Wake the F*ck Up Everyday Body Wash         -0.145355       25.0  4.1250   \n",
       "\n",
       "   loves_count  \n",
       "0         4281  \n",
       "1        10754  \n",
       "2         3352  \n",
       "3        45040  \n",
       "4         4567  "
      ]
     },
     "execution_count": 6,
     "metadata": {},
     "output_type": "execute_result"
    }
   ],
   "source": [
    "# Now create a data frame for a better output \n",
    "top_df = top.reset_index()\n",
    "top_df.columns = ['product_name', 'similarity_score']\n",
    "\n",
    "# Add product details\n",
    "details = sub[['product_name', 'price_usd', 'rating', 'loves_count']]\n",
    "\n",
    "# Merging\n",
    "top_df = pd.merge(top_df, details, on='product_name')\n",
    "\n",
    "# Show the final recommendation\n",
    "print(\"\\n The Top 5 Combined CF Recommendations for:\", chosen_product, \"are:\")\n",
    "top_df\n"
   ]
  },
  {
   "cell_type": "code",
   "execution_count": 9,
   "metadata": {},
   "outputs": [
    {
     "data": {
      "application/vnd.plotly.v1+json": {
       "config": {
        "plotlyServerURL": "https://plot.ly"
       },
       "data": [
        {
         "alignmentgroup": "True",
         "customdata": [
          [
           50,
           4.5,
           4281
          ],
          [
           34,
           4.8059,
           10754
          ],
          [
           16,
           4.72,
           3352
          ],
          [
           32,
           4.4439,
           45040
          ],
          [
           25,
           4.125,
           4567
          ]
         ],
         "hovertemplate": "Product=%{x}<br>Cosine Similarity Score=%{y}<br>price_usd=%{customdata[0]}<br>rating=%{customdata[1]}<br>loves_count=%{customdata[2]}<extra></extra>",
         "legendgroup": "",
         "marker": {
          "color": "#636efa",
          "pattern": {
           "shape": ""
          }
         },
         "name": "",
         "offsetgroup": "",
         "orientation": "v",
         "showlegend": false,
         "textposition": "auto",
         "type": "bar",
         "x": [
          "Sauvage Shower Wash",
          "Hinoki Gentle Exfoliating Body Wash",
          "Charcoal Body Bar Massaging Soap",
          "Cashmere Mist Deodorant",
          "Wake the F*ck Up Everyday Body Wash"
         ],
         "xaxis": "x",
         "y": [
          0.7565417752029079,
          0.484710811629998,
          0.2305416596641518,
          -0.0851925466052297,
          -0.14535506334047404
         ],
         "yaxis": "y"
        }
       ],
       "layout": {
        "barmode": "relative",
        "height": 600,
        "legend": {
         "tracegroupgap": 0
        },
        "template": {
         "data": {
          "bar": [
           {
            "error_x": {
             "color": "#2a3f5f"
            },
            "error_y": {
             "color": "#2a3f5f"
            },
            "marker": {
             "line": {
              "color": "#E5ECF6",
              "width": 0.5
             },
             "pattern": {
              "fillmode": "overlay",
              "size": 10,
              "solidity": 0.2
             }
            },
            "type": "bar"
           }
          ],
          "barpolar": [
           {
            "marker": {
             "line": {
              "color": "#E5ECF6",
              "width": 0.5
             },
             "pattern": {
              "fillmode": "overlay",
              "size": 10,
              "solidity": 0.2
             }
            },
            "type": "barpolar"
           }
          ],
          "carpet": [
           {
            "aaxis": {
             "endlinecolor": "#2a3f5f",
             "gridcolor": "white",
             "linecolor": "white",
             "minorgridcolor": "white",
             "startlinecolor": "#2a3f5f"
            },
            "baxis": {
             "endlinecolor": "#2a3f5f",
             "gridcolor": "white",
             "linecolor": "white",
             "minorgridcolor": "white",
             "startlinecolor": "#2a3f5f"
            },
            "type": "carpet"
           }
          ],
          "choropleth": [
           {
            "colorbar": {
             "outlinewidth": 0,
             "ticks": ""
            },
            "type": "choropleth"
           }
          ],
          "contour": [
           {
            "colorbar": {
             "outlinewidth": 0,
             "ticks": ""
            },
            "colorscale": [
             [
              0,
              "#0d0887"
             ],
             [
              0.1111111111111111,
              "#46039f"
             ],
             [
              0.2222222222222222,
              "#7201a8"
             ],
             [
              0.3333333333333333,
              "#9c179e"
             ],
             [
              0.4444444444444444,
              "#bd3786"
             ],
             [
              0.5555555555555556,
              "#d8576b"
             ],
             [
              0.6666666666666666,
              "#ed7953"
             ],
             [
              0.7777777777777778,
              "#fb9f3a"
             ],
             [
              0.8888888888888888,
              "#fdca26"
             ],
             [
              1,
              "#f0f921"
             ]
            ],
            "type": "contour"
           }
          ],
          "contourcarpet": [
           {
            "colorbar": {
             "outlinewidth": 0,
             "ticks": ""
            },
            "type": "contourcarpet"
           }
          ],
          "heatmap": [
           {
            "colorbar": {
             "outlinewidth": 0,
             "ticks": ""
            },
            "colorscale": [
             [
              0,
              "#0d0887"
             ],
             [
              0.1111111111111111,
              "#46039f"
             ],
             [
              0.2222222222222222,
              "#7201a8"
             ],
             [
              0.3333333333333333,
              "#9c179e"
             ],
             [
              0.4444444444444444,
              "#bd3786"
             ],
             [
              0.5555555555555556,
              "#d8576b"
             ],
             [
              0.6666666666666666,
              "#ed7953"
             ],
             [
              0.7777777777777778,
              "#fb9f3a"
             ],
             [
              0.8888888888888888,
              "#fdca26"
             ],
             [
              1,
              "#f0f921"
             ]
            ],
            "type": "heatmap"
           }
          ],
          "heatmapgl": [
           {
            "colorbar": {
             "outlinewidth": 0,
             "ticks": ""
            },
            "colorscale": [
             [
              0,
              "#0d0887"
             ],
             [
              0.1111111111111111,
              "#46039f"
             ],
             [
              0.2222222222222222,
              "#7201a8"
             ],
             [
              0.3333333333333333,
              "#9c179e"
             ],
             [
              0.4444444444444444,
              "#bd3786"
             ],
             [
              0.5555555555555556,
              "#d8576b"
             ],
             [
              0.6666666666666666,
              "#ed7953"
             ],
             [
              0.7777777777777778,
              "#fb9f3a"
             ],
             [
              0.8888888888888888,
              "#fdca26"
             ],
             [
              1,
              "#f0f921"
             ]
            ],
            "type": "heatmapgl"
           }
          ],
          "histogram": [
           {
            "marker": {
             "pattern": {
              "fillmode": "overlay",
              "size": 10,
              "solidity": 0.2
             }
            },
            "type": "histogram"
           }
          ],
          "histogram2d": [
           {
            "colorbar": {
             "outlinewidth": 0,
             "ticks": ""
            },
            "colorscale": [
             [
              0,
              "#0d0887"
             ],
             [
              0.1111111111111111,
              "#46039f"
             ],
             [
              0.2222222222222222,
              "#7201a8"
             ],
             [
              0.3333333333333333,
              "#9c179e"
             ],
             [
              0.4444444444444444,
              "#bd3786"
             ],
             [
              0.5555555555555556,
              "#d8576b"
             ],
             [
              0.6666666666666666,
              "#ed7953"
             ],
             [
              0.7777777777777778,
              "#fb9f3a"
             ],
             [
              0.8888888888888888,
              "#fdca26"
             ],
             [
              1,
              "#f0f921"
             ]
            ],
            "type": "histogram2d"
           }
          ],
          "histogram2dcontour": [
           {
            "colorbar": {
             "outlinewidth": 0,
             "ticks": ""
            },
            "colorscale": [
             [
              0,
              "#0d0887"
             ],
             [
              0.1111111111111111,
              "#46039f"
             ],
             [
              0.2222222222222222,
              "#7201a8"
             ],
             [
              0.3333333333333333,
              "#9c179e"
             ],
             [
              0.4444444444444444,
              "#bd3786"
             ],
             [
              0.5555555555555556,
              "#d8576b"
             ],
             [
              0.6666666666666666,
              "#ed7953"
             ],
             [
              0.7777777777777778,
              "#fb9f3a"
             ],
             [
              0.8888888888888888,
              "#fdca26"
             ],
             [
              1,
              "#f0f921"
             ]
            ],
            "type": "histogram2dcontour"
           }
          ],
          "mesh3d": [
           {
            "colorbar": {
             "outlinewidth": 0,
             "ticks": ""
            },
            "type": "mesh3d"
           }
          ],
          "parcoords": [
           {
            "line": {
             "colorbar": {
              "outlinewidth": 0,
              "ticks": ""
             }
            },
            "type": "parcoords"
           }
          ],
          "pie": [
           {
            "automargin": true,
            "type": "pie"
           }
          ],
          "scatter": [
           {
            "fillpattern": {
             "fillmode": "overlay",
             "size": 10,
             "solidity": 0.2
            },
            "type": "scatter"
           }
          ],
          "scatter3d": [
           {
            "line": {
             "colorbar": {
              "outlinewidth": 0,
              "ticks": ""
             }
            },
            "marker": {
             "colorbar": {
              "outlinewidth": 0,
              "ticks": ""
             }
            },
            "type": "scatter3d"
           }
          ],
          "scattercarpet": [
           {
            "marker": {
             "colorbar": {
              "outlinewidth": 0,
              "ticks": ""
             }
            },
            "type": "scattercarpet"
           }
          ],
          "scattergeo": [
           {
            "marker": {
             "colorbar": {
              "outlinewidth": 0,
              "ticks": ""
             }
            },
            "type": "scattergeo"
           }
          ],
          "scattergl": [
           {
            "marker": {
             "colorbar": {
              "outlinewidth": 0,
              "ticks": ""
             }
            },
            "type": "scattergl"
           }
          ],
          "scattermapbox": [
           {
            "marker": {
             "colorbar": {
              "outlinewidth": 0,
              "ticks": ""
             }
            },
            "type": "scattermapbox"
           }
          ],
          "scatterpolar": [
           {
            "marker": {
             "colorbar": {
              "outlinewidth": 0,
              "ticks": ""
             }
            },
            "type": "scatterpolar"
           }
          ],
          "scatterpolargl": [
           {
            "marker": {
             "colorbar": {
              "outlinewidth": 0,
              "ticks": ""
             }
            },
            "type": "scatterpolargl"
           }
          ],
          "scatterternary": [
           {
            "marker": {
             "colorbar": {
              "outlinewidth": 0,
              "ticks": ""
             }
            },
            "type": "scatterternary"
           }
          ],
          "surface": [
           {
            "colorbar": {
             "outlinewidth": 0,
             "ticks": ""
            },
            "colorscale": [
             [
              0,
              "#0d0887"
             ],
             [
              0.1111111111111111,
              "#46039f"
             ],
             [
              0.2222222222222222,
              "#7201a8"
             ],
             [
              0.3333333333333333,
              "#9c179e"
             ],
             [
              0.4444444444444444,
              "#bd3786"
             ],
             [
              0.5555555555555556,
              "#d8576b"
             ],
             [
              0.6666666666666666,
              "#ed7953"
             ],
             [
              0.7777777777777778,
              "#fb9f3a"
             ],
             [
              0.8888888888888888,
              "#fdca26"
             ],
             [
              1,
              "#f0f921"
             ]
            ],
            "type": "surface"
           }
          ],
          "table": [
           {
            "cells": {
             "fill": {
              "color": "#EBF0F8"
             },
             "line": {
              "color": "white"
             }
            },
            "header": {
             "fill": {
              "color": "#C8D4E3"
             },
             "line": {
              "color": "white"
             }
            },
            "type": "table"
           }
          ]
         },
         "layout": {
          "annotationdefaults": {
           "arrowcolor": "#2a3f5f",
           "arrowhead": 0,
           "arrowwidth": 1
          },
          "autotypenumbers": "strict",
          "coloraxis": {
           "colorbar": {
            "outlinewidth": 0,
            "ticks": ""
           }
          },
          "colorscale": {
           "diverging": [
            [
             0,
             "#8e0152"
            ],
            [
             0.1,
             "#c51b7d"
            ],
            [
             0.2,
             "#de77ae"
            ],
            [
             0.3,
             "#f1b6da"
            ],
            [
             0.4,
             "#fde0ef"
            ],
            [
             0.5,
             "#f7f7f7"
            ],
            [
             0.6,
             "#e6f5d0"
            ],
            [
             0.7,
             "#b8e186"
            ],
            [
             0.8,
             "#7fbc41"
            ],
            [
             0.9,
             "#4d9221"
            ],
            [
             1,
             "#276419"
            ]
           ],
           "sequential": [
            [
             0,
             "#0d0887"
            ],
            [
             0.1111111111111111,
             "#46039f"
            ],
            [
             0.2222222222222222,
             "#7201a8"
            ],
            [
             0.3333333333333333,
             "#9c179e"
            ],
            [
             0.4444444444444444,
             "#bd3786"
            ],
            [
             0.5555555555555556,
             "#d8576b"
            ],
            [
             0.6666666666666666,
             "#ed7953"
            ],
            [
             0.7777777777777778,
             "#fb9f3a"
            ],
            [
             0.8888888888888888,
             "#fdca26"
            ],
            [
             1,
             "#f0f921"
            ]
           ],
           "sequentialminus": [
            [
             0,
             "#0d0887"
            ],
            [
             0.1111111111111111,
             "#46039f"
            ],
            [
             0.2222222222222222,
             "#7201a8"
            ],
            [
             0.3333333333333333,
             "#9c179e"
            ],
            [
             0.4444444444444444,
             "#bd3786"
            ],
            [
             0.5555555555555556,
             "#d8576b"
            ],
            [
             0.6666666666666666,
             "#ed7953"
            ],
            [
             0.7777777777777778,
             "#fb9f3a"
            ],
            [
             0.8888888888888888,
             "#fdca26"
            ],
            [
             1,
             "#f0f921"
            ]
           ]
          },
          "colorway": [
           "#636efa",
           "#EF553B",
           "#00cc96",
           "#ab63fa",
           "#FFA15A",
           "#19d3f3",
           "#FF6692",
           "#B6E880",
           "#FF97FF",
           "#FECB52"
          ],
          "font": {
           "color": "#2a3f5f"
          },
          "geo": {
           "bgcolor": "white",
           "lakecolor": "white",
           "landcolor": "#E5ECF6",
           "showlakes": true,
           "showland": true,
           "subunitcolor": "white"
          },
          "hoverlabel": {
           "align": "left"
          },
          "hovermode": "closest",
          "mapbox": {
           "style": "light"
          },
          "paper_bgcolor": "white",
          "plot_bgcolor": "#E5ECF6",
          "polar": {
           "angularaxis": {
            "gridcolor": "white",
            "linecolor": "white",
            "ticks": ""
           },
           "bgcolor": "#E5ECF6",
           "radialaxis": {
            "gridcolor": "white",
            "linecolor": "white",
            "ticks": ""
           }
          },
          "scene": {
           "xaxis": {
            "backgroundcolor": "#E5ECF6",
            "gridcolor": "white",
            "gridwidth": 2,
            "linecolor": "white",
            "showbackground": true,
            "ticks": "",
            "zerolinecolor": "white"
           },
           "yaxis": {
            "backgroundcolor": "#E5ECF6",
            "gridcolor": "white",
            "gridwidth": 2,
            "linecolor": "white",
            "showbackground": true,
            "ticks": "",
            "zerolinecolor": "white"
           },
           "zaxis": {
            "backgroundcolor": "#E5ECF6",
            "gridcolor": "white",
            "gridwidth": 2,
            "linecolor": "white",
            "showbackground": true,
            "ticks": "",
            "zerolinecolor": "white"
           }
          },
          "shapedefaults": {
           "line": {
            "color": "#2a3f5f"
           }
          },
          "ternary": {
           "aaxis": {
            "gridcolor": "white",
            "linecolor": "white",
            "ticks": ""
           },
           "baxis": {
            "gridcolor": "white",
            "linecolor": "white",
            "ticks": ""
           },
           "bgcolor": "#E5ECF6",
           "caxis": {
            "gridcolor": "white",
            "linecolor": "white",
            "ticks": ""
           }
          },
          "title": {
           "x": 0.05
          },
          "xaxis": {
           "automargin": true,
           "gridcolor": "white",
           "linecolor": "white",
           "ticks": "",
           "title": {
            "standoff": 15
           },
           "zerolinecolor": "white",
           "zerolinewidth": 2
          },
          "yaxis": {
           "automargin": true,
           "gridcolor": "white",
           "linecolor": "white",
           "ticks": "",
           "title": {
            "standoff": 15
           },
           "zerolinecolor": "white",
           "zerolinewidth": 2
          }
         }
        },
        "title": {
         "text": "Top 5 Recommended Products based on Content and Item-to-Item CF"
        },
        "xaxis": {
         "anchor": "y",
         "domain": [
          0,
          1
         ],
         "title": {
          "text": "Product"
         }
        },
        "yaxis": {
         "anchor": "x",
         "domain": [
          0,
          1
         ],
         "title": {
          "text": "Cosine Similarity Score"
         }
        }
       }
      }
     },
     "metadata": {},
     "output_type": "display_data"
    }
   ],
   "source": [
    "\n",
    "#plotting an interative bar chart with ploty\n",
    "fig = px.bar(top_df,\n",
    "    x='product_name',\n",
    "    y='similarity_score',\n",
    "    title=\"Top 5 Recommended Products based on Content and Item-to-Item CF\",\n",
    "    labels={'product_name': 'Product', 'similarity_score': 'Cosine Similarity Score'},\n",
    "    hover_data={'price_usd': True,'rating': True,'loves_count': True\n",
    "    }\n",
    ")\n",
    "# make the graph taller\n",
    "fig.update_layout(height=600)\n",
    "#show it\n",
    "fig.show()\n",
    "\n",
    "#Save the plot as an HTML file\n",
    "fig.write_html(\"top5_recommendations.html\")\n"
   ]
  },
  {
   "cell_type": "code",
   "execution_count": null,
   "metadata": {},
   "outputs": [],
   "source": []
  }
 ],
 "metadata": {
  "kernelspec": {
   "display_name": "ds",
   "language": "python",
   "name": "python3"
  },
  "language_info": {
   "codemirror_mode": {
    "name": "ipython",
    "version": 3
   },
   "file_extension": ".py",
   "mimetype": "text/x-python",
   "name": "python",
   "nbconvert_exporter": "python",
   "pygments_lexer": "ipython3",
   "version": "3.9.21"
  },
  "orig_nbformat": 4,
  "vscode": {
   "interpreter": {
    "hash": "1eeac4f417d7710c789037500f3915e8f312c9f0bfc7fcf4b1dd5c69466d8043"
   }
  }
 },
 "nbformat": 4,
 "nbformat_minor": 2
}
